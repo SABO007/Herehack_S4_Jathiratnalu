{
 "cells": [
  {
   "cell_type": "code",
   "execution_count": null,
   "metadata": {},
   "outputs": [],
   "source": [
    "import urllib2, json, numbers, time"
   ]
  },
  {
   "cell_type": "code",
   "execution_count": null,
   "metadata": {},
   "outputs": [],
   "source": [
    "\n",
    "HOST_URL = \"https://geo.fcc.gov/\"\n",
    "\n",
    "RATE_PER_SEC = 1\n",
    "last_call_time = None"
   ]
  },
  {
   "cell_type": "code",
   "execution_count": null,
   "metadata": {},
   "outputs": [],
   "source": [
    "def location(lat,lon):\n",
    "\t\n",
    "\tglobal last_call_time\n",
    "\t\n",
    "\tif not (isinstance(lat,numbers.Real) and isinstance(lon,numbers.Real)):\n",
    "\t\traise BadLatLonException\n",
    "\t\n",
    "\tENDPOINT = \"api/census/area\"\n",
    "\t\n",
    "\tif last_call_time:\n",
    "\t\tdelay = time.time() - last_call_time\n",
    "\t\tif (delay < (1.0/RATE_PER_SEC)):\n",
    "\t\t\ttime.sleep(delay)\n",
    "\t\tlast_call_time = time.time()\n",
    "\t\n",
    "\tlast_call_time = time.time()\n",
    "\t\n",
    "\tfh = urllib2.urlopen(HOST_URL + ENDPOINT + \"?lat=\" + str(lat) + \"&lon=\" + str(lon))\n",
    "\treturn json.loads(fh.read())"
   ]
  },
  {
   "cell_type": "code",
   "execution_count": null,
   "metadata": {},
   "outputs": [],
   "source": [
    "\t\n",
    "def get_county(lat,lon):\n",
    "\tjs = location(lat,lon)\n",
    "\t\n",
    "\tif not js[\"results\"]:\n",
    "\t\traise NonUSException\n",
    "\t\t\n",
    "\treturn {'state':js[\"results\"][0][\"state_name\"],'county':js[\"results\"][0]['county_name']}\n"
   ]
  },
  {
   "cell_type": "code",
   "execution_count": null,
   "metadata": {},
   "outputs": [],
   "source": [
    "class NonUSException(Exception):\n",
    "\tpass\n",
    "\n",
    "class BadLatLonException(Exception):\n",
    "\tpass"
   ]
  }
 ],
 "metadata": {
  "kernelspec": {
   "display_name": "Python 3.11.0 64-bit",
   "language": "python",
   "name": "python3"
  },
  "language_info": {
   "name": "python",
   "version": "3.11.0"
  },
  "orig_nbformat": 4,
  "vscode": {
   "interpreter": {
    "hash": "c261aea317cc0286b3b3261fbba9abdec21eaa57589985bb7a274bf54d6cc0a7"
   }
  }
 },
 "nbformat": 4,
 "nbformat_minor": 2
}
